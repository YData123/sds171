{
 "cells": [
  {
   "cell_type": "markdown",
   "metadata": {},
   "source": [
    "# Text Data Science:  Midterm\n",
    "\n",
    "Please complete all of the questions. Save your notebook as html->pdf, as well as ipynb, and submit to the course Canvas site. You may use any materials to solve the problems, including past Labs and the Internet. Have fun!\n",
    "\n",
    "\n",
    "\n"
   ]
  },
  {
   "cell_type": "code",
   "execution_count": 1,
   "metadata": {},
   "outputs": [],
   "source": [
    "from datascience import *\n",
    "import numpy as np\n",
    "import re\n",
    "from collections import Counter\n",
    "\n",
    "\n",
    "# direct plots to appear within the cell, and set their style\n",
    "%matplotlib inline\n",
    "import matplotlib.pyplot as plots\n",
    "plots.style.use('fivethirtyeight')\n",
    "\n"
   ]
  },
  {
   "cell_type": "markdown",
   "metadata": {},
   "source": [
    "\n",
    "\n",
    "[<img src=\"https://upload.wikimedia.org/wikipedia/en/a/a3/Doriangray.jpg\" style=\"width: 200px; margin:0px 20px 20px 0; margin-top: 10px\"/>](https://en.wikipedia.org/wiki/The_Picture_of_Dorian_Gray)\n",
    "\n",
    "## 1. Analyzing a Gutenberg book\n",
    "\n",
    "In this problem we'll work with the book \"The Picture of Dorian Gray\" from the Gutenberg project.\n"
   ]
  },
  {
   "cell_type": "code",
   "execution_count": 2,
   "metadata": {},
   "outputs": [],
   "source": [
    "from urllib.request import urlopen \n",
    "import re\n",
    "def read_url(url): \n",
    "    return re.sub('\\\\s+', ' ', urlopen(url).read().decode())"
   ]
  },
  {
   "cell_type": "markdown",
   "metadata": {},
   "source": [
    "The online book for \"The Picture of Dorian Gray,\" by Oscar Wilde, is [here](https://www.gutenberg.org/ebooks/174).\n",
    "From this web site you can see various metadata for the book as well as the [link the text itself](http://www.gutenberg.org/cache/epub/174/pg174.txt).\n"
   ]
  },
  {
   "cell_type": "code",
   "execution_count": 3,
   "metadata": {},
   "outputs": [],
   "source": [
    "dorian_gray_url = 'http://www.gutenberg.org/cache/epub/174/pg174.txt'\n",
    "dorian_gray_text = read_url(dorian_gray_url)\n",
    "dorian_gray_chapters = dorian_gray_text.split('CHAPTER ')[1:]\n",
    "\n"
   ]
  },
  {
   "cell_type": "markdown",
   "metadata": {},
   "source": [
    "For each of the following questions, give a Python expression that evaluates to the correct answer -- do not \"hard code\" the answer with a number or constant expression like `42` or `\"forty-two\"`"
   ]
  },
  {
   "cell_type": "markdown",
   "metadata": {},
   "source": [
    "### 1.1  What is the length of the text, in characters?"
   ]
  },
  {
   "cell_type": "code",
   "execution_count": 4,
   "metadata": {},
   "outputs": [],
   "source": [
    "dg_len_chars = ..."
   ]
  },
  {
   "cell_type": "markdown",
   "metadata": {},
   "source": [
    "### 1.2 How many chapters are there in the book?"
   ]
  },
  {
   "cell_type": "code",
   "execution_count": 5,
   "metadata": {},
   "outputs": [],
   "source": [
    "dg_num_chapters = ..."
   ]
  },
  {
   "cell_type": "markdown",
   "metadata": {},
   "source": [
    "### 1.3 Clean string function\n",
    "\n",
    "Write a function `clean_text(str)` that converts the input string to lower case, removes all characters that are not the letters a-z or space, and removes extra spaces. For example, `clean_text('This is a...   Test!')` should return the string `'this is a test'`\n"
   ]
  },
  {
   "cell_type": "code",
   "execution_count": 8,
   "metadata": {},
   "outputs": [],
   "source": [
    "def clean_text(str):\n",
    "    return ..."
   ]
  },
  {
   "cell_type": "markdown",
   "metadata": {},
   "source": [
    "### 1.4 Process each chapter\n",
    "\n",
    "Apply the `clean_text` function to clean up each chapter, that is, each element of the list `dorian_gray_chapters`.\n"
   ]
  },
  {
   "cell_type": "code",
   "execution_count": 9,
   "metadata": {},
   "outputs": [],
   "source": [
    "# process dorian_gray_chapters\n",
    "for c in np.arange(len(dorian_gray_chapters)):\n",
    "    dorian_gray_chapters[c] = ...\n"
   ]
  },
  {
   "cell_type": "markdown",
   "metadata": {},
   "source": [
    "### 1.5 Count of words by chapter\n",
    "\n",
    "Complete the following function so that it returns an array of counts of the word `word` in each of the chapters."
   ]
  },
  {
   "cell_type": "code",
   "execution_count": 79,
   "metadata": {},
   "outputs": [],
   "source": [
    "def counts_of_word(word):\n",
    "    count = []\n",
    "    for c in np.arange(len(dorian_gray_chapters)):\n",
    "        count.append(...)\n",
    "    return count\n",
    "\n"
   ]
  },
  {
   "cell_type": "markdown",
   "metadata": {},
   "source": [
    "### 1.6 Counts of names\n",
    "\n",
    "Form a table `name_counts` with a column called 'chapter' with the chapter number,\n",
    "and column containing the word counts for each of `dorian`, `sibyl`, `lord henry`, `basil` and `alan`\n"
   ]
  },
  {
   "cell_type": "code",
   "execution_count": 81,
   "metadata": {},
   "outputs": [],
   "source": [
    "name_counts = Table().with_columns('chapter', np.arange(1,len(dorian_gray_chapters)+1))\n",
    "...\n",
    "                                    "
   ]
  },
  {
   "cell_type": "markdown",
   "metadata": {},
   "source": [
    "### 1.7 Plotting the chapter lengths\n",
    "\n",
    "Give a bar plot or line plot showing the number of occurrences of each of these characters by chapter\n"
   ]
  },
  {
   "cell_type": "code",
   "execution_count": 9,
   "metadata": {},
   "outputs": [
    {
     "data": {
      "text/plain": [
       "Ellipsis"
      ]
     },
     "execution_count": 9,
     "metadata": {},
     "output_type": "execute_result"
    }
   ],
   "source": [
    "..."
   ]
  },
  {
   "cell_type": "markdown",
   "metadata": {},
   "source": [
    "### 1.8  Something else\n",
    "\n",
    "Now do something else with the book. Anything. Be as ambitious or cautious as you choose :-). You might want to return to this part after completing the next problem.\n"
   ]
  },
  {
   "cell_type": "markdown",
   "metadata": {},
   "source": [
    "\n",
    "[<img src=\"https://upload.wikimedia.org/wikipedia/commons/4/42/Chris_Anderson_2007.jpg\" style=\"width: 300px; margin:0px 20px 20px 0; margin-top: 10px\"/>](https://en.wikipedia.org/wiki/TED_(conference)\n",
    "\n",
    "\n",
    "## 2. Analyzing TED Talks\n",
    "\n",
    "Now you will carry out some text processing on 50 of the TED talks. The following bit of code reads in the data and creates a subject line.\n"
   ]
  },
  {
   "cell_type": "code",
   "execution_count": 2,
   "metadata": {},
   "outputs": [
    {
     "data": {
      "text/html": [
       "<table border=\"1\" class=\"dataframe\">\n",
       "    <thead>\n",
       "        <tr>\n",
       "            <th>subject</th> <th>transcript</th>\n",
       "        </tr>\n",
       "    </thead>\n",
       "    <tbody>\n",
       "        <tr>\n",
       "            <td>ken robinson says schools kill creativity         </td> <td>Good morning. How are you?(Laughter)It's been great, has ...</td>\n",
       "        </tr>\n",
       "        <tr>\n",
       "            <td>al gore on averting climate crisis                </td> <td>Thank you so much, Chris. And it's truly a great honor t ...</td>\n",
       "        </tr>\n",
       "        <tr>\n",
       "            <td>david pogue says simplicity sells                 </td> <td>(Music: \"The Sound of Silence,\" Simon & Garfunkel)Hello  ...</td>\n",
       "        </tr>\n",
       "        <tr>\n",
       "            <td>majora carter s tale of urban renewal             </td> <td>If you're here today — and I'm very happy that you are — ...</td>\n",
       "        </tr>\n",
       "        <tr>\n",
       "            <td>hans rosling shows the best stats you ve ever seen</td> <td>About 10 years ago, I took on the task to teach global d ...</td>\n",
       "        </tr>\n",
       "        <tr>\n",
       "            <td>tony robbins asks why we do what we do            </td> <td>Thank you. I have to tell you I'm both challenged and ex ...</td>\n",
       "        </tr>\n",
       "        <tr>\n",
       "            <td>julia sweeney on letting go of god                </td> <td>On September 10, the morning of my seventh birthday, I c ...</td>\n",
       "        </tr>\n",
       "        <tr>\n",
       "            <td>joshua prince ramus on seattle s library          </td> <td>I'm going to present three projects in rapid fire. I don ...</td>\n",
       "        </tr>\n",
       "        <tr>\n",
       "            <td>dan dennett s response to rick warren             </td> <td>It's wonderful to be back. I love this wonderful gatheri ...</td>\n",
       "        </tr>\n",
       "        <tr>\n",
       "            <td>rick warren on a life of purpose                  </td> <td>I'm often asked, \"What surprised you about the book?\" An ...</td>\n",
       "        </tr>\n",
       "    </tbody>\n",
       "</table>\n",
       "<p>... (40 rows omitted)</p>"
      ],
      "text/plain": [
       "subject                                            | transcript\n",
       "ken robinson says schools kill creativity          | Good morning. How are you?(Laughter)It's been great, has ...\n",
       "al gore on averting climate crisis                 | Thank you so much, Chris. And it's truly a great honor t ...\n",
       "david pogue says simplicity sells                  | (Music: \"The Sound of Silence,\" Simon & Garfunkel)Hello  ...\n",
       "majora carter s tale of urban renewal              | If you're here today — and I'm very happy that you are — ...\n",
       "hans rosling shows the best stats you ve ever seen | About 10 years ago, I took on the task to teach global d ...\n",
       "tony robbins asks why we do what we do             | Thank you. I have to tell you I'm both challenged and ex ...\n",
       "julia sweeney on letting go of god                 | On September 10, the morning of my seventh birthday, I c ...\n",
       "joshua prince ramus on seattle s library           | I'm going to present three projects in rapid fire. I don ...\n",
       "dan dennett s response to rick warren              | It's wonderful to be back. I love this wonderful gatheri ...\n",
       "rick warren on a life of purpose                   | I'm often asked, \"What surprised you about the book?\" An ...\n",
       "... (40 rows omitted)"
      ]
     },
     "execution_count": 2,
     "metadata": {},
     "output_type": "execute_result"
    }
   ],
   "source": [
    "filename = \"ted_talks_50.csv\"\n",
    "data = Table.read_table(filename)\n",
    "urls = data.column(1)\n",
    "subjects = [re.sub('_', ' ', re.sub('.*/','', url)) for url in urls]\n",
    "ted = Table().with_columns('subject', subjects, 'transcript', data.column('transcript'))\n",
    "ted"
   ]
  },
  {
   "cell_type": "markdown",
   "metadata": {},
   "source": [
    "### 2.1 Longest talk\n",
    "\n",
    "Which talk is the longest, in terms of number of characters in the transcript? The shortest? Give the name of the talk, as in the example below. To do this, you might want to create a column containing the length of each talk, and then sort on this column.\n"
   ]
  },
  {
   "cell_type": "code",
   "execution_count": 3,
   "metadata": {},
   "outputs": [
    {
     "name": "stdout",
     "output_type": "stream",
     "text": [
      "First talk: `ken robinson says schools kill creativity`\n",
      "Last talk: `dean ornish on the world s killer diet`\n",
      "Longest talk: `Ellipsis`\n",
      "Shortest talk: `Ellipsis`\n"
     ]
    }
   ],
   "source": [
    "first_talk = ted.column('subject')[0]\n",
    "last_talk = ted.column('subject')[-1]\n",
    "longest_talk = ...\n",
    "shortest_talk = ...\n",
    "\n",
    "print(\"First talk: `%s`\" % first_talk)\n",
    "print(\"Last talk: `%s`\" % last_talk)\n",
    "print(\"Longest talk: `%s`\" % longest_talk)\n",
    "print(\"Shortest talk: `%s`\" % shortest_talk)"
   ]
  },
  {
   "cell_type": "markdown",
   "metadata": {},
   "source": [
    "### 2.2 Find names\n",
    "\n",
    "Write a function `find_all_names` that takes an input string and returns all occurrences of two consecutive upper-case words in the string. So `find_names('Mickey Mouse is a friend of Donald Duck and Donald Duck likes Mickey too!')` should return `['Mickey Mouse', 'Donald Duck', 'Donald Duck']`. Use the function `re.findall`."
   ]
  },
  {
   "cell_type": "code",
   "execution_count": 10,
   "metadata": {},
   "outputs": [],
   "source": [
    "def find_all_names(str):\n",
    "    return re.findall(...)"
   ]
  },
  {
   "cell_type": "markdown",
   "metadata": {},
   "source": [
    "### 2.3 Creating a name list\n",
    "\n",
    "Recall that we can use the `Counter` class to build the vocabulary.  Counter is a Python dictionary where keys are the objects to be counted and the values are their counts. Using the `Counter` and the `find_names` function, create a vocabulary of all unique proper names that appear in the talk. How many names are there? Print them out sorted order\n"
   ]
  },
  {
   "cell_type": "code",
   "execution_count": 11,
   "metadata": {},
   "outputs": [
    {
     "name": "stdout",
     "output_type": "stream",
     "text": [
      "0\n"
     ]
    },
    {
     "data": {
      "text/plain": [
       "[]"
      ]
     },
     "execution_count": 11,
     "metadata": {},
     "output_type": "execute_result"
    }
   ],
   "source": [
    "names = Counter()\n",
    "for i in np.arange(50):\n",
    "    # find all the names in talk number i, and add them to names with the update function from Counter\n",
    "    ...\n",
    "\n",
    "num_names = len(names)\n",
    "print(num_names)\n",
    "# sorted(names) will sort them lexicographically\n",
    "sorted(names)"
   ]
  },
  {
   "cell_type": "markdown",
   "metadata": {},
   "source": [
    "### 2.4 Most common\n",
    "\n",
    "What are the ten most common names in these Ted Talks?"
   ]
  },
  {
   "cell_type": "code",
   "execution_count": 6,
   "metadata": {},
   "outputs": [
    {
     "data": {
      "text/plain": [
       "Ellipsis"
      ]
     },
     "execution_count": 6,
     "metadata": {},
     "output_type": "execute_result"
    }
   ],
   "source": [
    "ten_most_common = ...\n",
    "ten_most_common"
   ]
  },
  {
   "cell_type": "markdown",
   "metadata": {},
   "source": [
    "### 2.5 Names by talk\n",
    "\n",
    "Now create a column `names mentioned` that lists the *unique* names mentioned in each talk. *Hint:* You might try converting a list of names to a set.\n"
   ]
  },
  {
   "cell_type": "code",
   "execution_count": 12,
   "metadata": {
    "scrolled": true
   },
   "outputs": [
    {
     "data": {
      "text/html": [
       "<table border=\"1\" class=\"dataframe\">\n",
       "    <thead>\n",
       "        <tr>\n",
       "            <th>subject</th> <th>transcript</th> <th>names mentioned</th>\n",
       "        </tr>\n",
       "    </thead>\n",
       "    <tbody>\n",
       "        <tr>\n",
       "            <td>ken robinson says schools kill creativity         </td> <td>Good morning. How are you?(Laughter)It's been great, has ...</td> <td>Ellipsis       </td>\n",
       "        </tr>\n",
       "        <tr>\n",
       "            <td>al gore on averting climate crisis                </td> <td>Thank you so much, Chris. And it's truly a great honor t ...</td> <td>Ellipsis       </td>\n",
       "        </tr>\n",
       "        <tr>\n",
       "            <td>david pogue says simplicity sells                 </td> <td>(Music: \"The Sound of Silence,\" Simon & Garfunkel)Hello  ...</td> <td>Ellipsis       </td>\n",
       "        </tr>\n",
       "        <tr>\n",
       "            <td>majora carter s tale of urban renewal             </td> <td>If you're here today — and I'm very happy that you are — ...</td> <td>Ellipsis       </td>\n",
       "        </tr>\n",
       "        <tr>\n",
       "            <td>hans rosling shows the best stats you ve ever seen</td> <td>About 10 years ago, I took on the task to teach global d ...</td> <td>Ellipsis       </td>\n",
       "        </tr>\n",
       "        <tr>\n",
       "            <td>tony robbins asks why we do what we do            </td> <td>Thank you. I have to tell you I'm both challenged and ex ...</td> <td>Ellipsis       </td>\n",
       "        </tr>\n",
       "        <tr>\n",
       "            <td>julia sweeney on letting go of god                </td> <td>On September 10, the morning of my seventh birthday, I c ...</td> <td>Ellipsis       </td>\n",
       "        </tr>\n",
       "        <tr>\n",
       "            <td>joshua prince ramus on seattle s library          </td> <td>I'm going to present three projects in rapid fire. I don ...</td> <td>Ellipsis       </td>\n",
       "        </tr>\n",
       "        <tr>\n",
       "            <td>dan dennett s response to rick warren             </td> <td>It's wonderful to be back. I love this wonderful gatheri ...</td> <td>Ellipsis       </td>\n",
       "        </tr>\n",
       "        <tr>\n",
       "            <td>rick warren on a life of purpose                  </td> <td>I'm often asked, \"What surprised you about the book?\" An ...</td> <td>Ellipsis       </td>\n",
       "        </tr>\n",
       "    </tbody>\n",
       "</table>\n",
       "<p>... (40 rows omitted)</p>"
      ],
      "text/plain": [
       "subject                                            | transcript                                                   | names mentioned\n",
       "ken robinson says schools kill creativity          | Good morning. How are you?(Laughter)It's been great, has ... | Ellipsis\n",
       "al gore on averting climate crisis                 | Thank you so much, Chris. And it's truly a great honor t ... | Ellipsis\n",
       "david pogue says simplicity sells                  | (Music: \"The Sound of Silence,\" Simon & Garfunkel)Hello  ... | Ellipsis\n",
       "majora carter s tale of urban renewal              | If you're here today — and I'm very happy that you are — ... | Ellipsis\n",
       "hans rosling shows the best stats you ve ever seen | About 10 years ago, I took on the task to teach global d ... | Ellipsis\n",
       "tony robbins asks why we do what we do             | Thank you. I have to tell you I'm both challenged and ex ... | Ellipsis\n",
       "julia sweeney on letting go of god                 | On September 10, the morning of my seventh birthday, I c ... | Ellipsis\n",
       "joshua prince ramus on seattle s library           | I'm going to present three projects in rapid fire. I don ... | Ellipsis\n",
       "dan dennett s response to rick warren              | It's wonderful to be back. I love this wonderful gatheri ... | Ellipsis\n",
       "rick warren on a life of purpose                   | I'm often asked, \"What surprised you about the book?\" An ... | Ellipsis\n",
       "... (40 rows omitted)"
      ]
     },
     "execution_count": 12,
     "metadata": {},
     "output_type": "execute_result"
    }
   ],
   "source": [
    "\n",
    "talk_names = []\n",
    "for i in np.arange(50):\n",
    "    this_talk_names = ...\n",
    "    talk_names.append(this_talk_names)\n",
    "\n",
    "ted = ted.with_column('names mentioned', talk_names)\n",
    "ted"
   ]
  },
  {
   "cell_type": "markdown",
   "metadata": {},
   "source": [
    "### 2.6 Cleaning up the names\n",
    "\n",
    "What are some problems with this method of finding names? Give some examples of non-names that are found. How would you improve the method? Describe how you would implement the improvements.\n"
   ]
  }
 ],
 "metadata": {
  "anaconda-cloud": {},
  "celltoolbar": "Raw Cell Format",
  "kernelspec": {
   "display_name": "Python 3",
   "language": "python",
   "name": "python3"
  },
  "language_info": {
   "codemirror_mode": {
    "name": "ipython",
    "version": 3
   },
   "file_extension": ".py",
   "mimetype": "text/x-python",
   "name": "python",
   "nbconvert_exporter": "python",
   "pygments_lexer": "ipython3",
   "version": "3.6.5"
  }
 },
 "nbformat": 4,
 "nbformat_minor": 1
}
