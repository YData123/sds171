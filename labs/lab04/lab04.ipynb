{
 "cells": [
  {
   "cell_type": "markdown",
   "metadata": {},
   "source": [
    "## Lab 04: State of the Union Addresses (1/2)\n",
    "\n",
    "In this lab we will begin working the transcripts of the State of the Union addresses. These speeches are a grand tradition with historical significance in the United States. In this first lab, we will do some simple analysis to parse the addresses by breaking them up into sentences. We will then look at the trends in the data, and do a little detective work to understand how the addresses have evolved over the years. \n",
    "\n",
    "In terms of technical and programming content, this lab will continue some of the skills we began developing in previous labs, including regular expressions, string splitting, and so on. We will also briefly discuss the `json` data format, which is very commonly used for unstructured data like text. We'll also take a closer look at the supremely handy `print` function.\n",
    "\n",
    "Disclaimer: The addresses themselves are of course political events, and trigger political commentary. We'll focus on programming and the analysis of data rather than politics.\n",
    "\n",
    "<br>\n",
    "\n"
   ]
  },
  {
   "cell_type": "code",
   "execution_count": null,
   "metadata": {},
   "outputs": [],
   "source": [
    "from datascience import *\n",
    "import numpy as np\n",
    "import re\n",
    "\n",
    "# direct plots to appear within the cell, and set their style\n",
    "%matplotlib inline\n",
    "import matplotlib.pyplot as plots\n",
    "plots.style.use('fivethirtyeight')\n"
   ]
  },
  {
   "cell_type": "markdown",
   "metadata": {},
   "source": [
    "A `json`, which stands for [Javascript Object Notation](https://en.wikipedia.org/wiki/JSON), is format that is essentially a dictionary of key-value pairs, but it allows nesting. Here is an excerpt from the SOTU data we'll be using.\n",
    "\n",
    "```\n",
    "{\n",
    "   \"date\": \"2017-02-28\",\n",
    "   \"president\": \"Donald J. Trump\",\n",
    "   \"title\": \"Address Before a Joint Session of the Congress\",\n",
    "   \"url\": \"http://www.presidency.ucsb.edu/ws/index.php?pid=123408\",\n",
    "   \"transcript\": \"Thank you very much. Mr. Speaker, Mr. Vice President, Members of Congress, the First Lady of the United States, and citizens of America: Tonight, as we mark the conclusion of our celebration of Black History Month, we are reminded of our Nation's path towards civil rights and the work that still remains to be done. Recent threats targeting Jewish community centers and vandalism of Jewish cemeteries, as well as last week's shooting in Kansas City, remind us that while we may be a nation divided on policies, we are a country that stands united in condemning hate and evil in all of its very ugly forms. Each American generation passes the torch of truth, liberty, and justice in an unbroken chain, all the way down to the present. That torch is now in our hands, and we will use it to light up the world. I am here tonight to deliver a message of unity and strength, and it is a message deeply delivered from my heart.\n",
    "```\n",
    "\n",
    "Let's read this in with the `json` package and load the meta-data and transcript for each speech into a `Table`"
   ]
  },
  {
   "cell_type": "code",
   "execution_count": null,
   "metadata": {},
   "outputs": [],
   "source": [
    "import json\n",
    "with open('transcripts.json') as f:\n",
    "    data = json.load(f)"
   ]
  },
  {
   "cell_type": "code",
   "execution_count": null,
   "metadata": {
    "scrolled": true
   },
   "outputs": [],
   "source": [
    "import datetime\n",
    "\n",
    "dates = []\n",
    "presidents = []\n",
    "transcripts = []\n",
    "years = []\n",
    "\n",
    "for a in np.arange(len(data)):\n",
    "    dates.append(data[a]['date'])\n",
    "    presidents.append(data[a]['president'])\n",
    "    transcripts.append(data[a]['transcript'])\n",
    "    year = datetime.datetime.strptime(data[a]['date'], \"%Y-%m-%d\").year\n",
    "    years.append(year)\n",
    "\n",
    "speeches = Table().with_columns('Date', dates, 'Year', years, 'President', presidents, 'Transcript', transcripts)\n",
    "speeches = speeches.sort('Date', descending=True)\n",
    "speeches.show(16)"
   ]
  },
  {
   "cell_type": "markdown",
   "metadata": {},
   "source": [
    "Let's print out the first 500 characters of several speeches, just get an idea of what the data look like.\n",
    "We'll use the `print` statement which takes the form `print(format % tuple)` where `format` is a string that specifies the format of `n` entries to be printed, and `tuple` is an `n` tuple of values. Some basic types are `%s` for string, `%d` for integer, and `%f` for float.  The statement `print('%s, %s!' % ('hello', 'world'))` will print `hello, world!`\n"
   ]
  },
  {
   "cell_type": "code",
   "execution_count": null,
   "metadata": {
    "scrolled": true
   },
   "outputs": [],
   "source": [
    "for s in np.arange(0, speeches.num_rows, 4):\n",
    "    print(\"%s: %s \\n\\n%s...\\n\" % \\\n",
    "          (speeches.column('Date')[s], speeches.column('President')[s], speeches.column('Transcript')[s][0:500]))\n"
   ]
  },
  {
   "cell_type": "code",
   "execution_count": null,
   "metadata": {},
   "outputs": [],
   "source": [
    "import datetime\n",
    "\n",
    "def parse_into_sentences(transcript):\n",
    "    import re\n",
    "    transcript = transcript.replace(\"Mr.\", \"Mr\").replace(\"Mrs.\", \"Mrs\").replace(\"Ms.\",\"Ms\")\n",
    "    pattern = re.compile(r'([A-Z][^\\.!?]*[\\.!?])', re.MULTILINE | re.DOTALL)\n",
    "    sentences = pattern.findall(transcript)\n",
    "    return(sentences)\n",
    "\n",
    "def longest_sentence(sentences):\n",
    "    import numpy as np\n",
    "    lengths = [len(re.split(r'\\s', sentences[s])) for s in range(len(sentences))]\n",
    "    s = np.argmax(lengths)\n",
    "    return(sentences[s])\n",
    "\n",
    "def show_longest(s):\n",
    "    print(\"%s: %s\\n\" % (speeches.column('President')[s], speeches.column('Date')[s]))\n",
    "    sents = parse_into_sentences(speeches.column('Transcript')[20])\n",
    "    longest = longest_sentence(sents)\n",
    "    print(longest)"
   ]
  },
  {
   "cell_type": "code",
   "execution_count": null,
   "metadata": {},
   "outputs": [],
   "source": [
    "lengths = []\n",
    "years = []\n",
    "longest = []\n",
    "\n",
    "for s in np.arange(speeches.num_rows):\n",
    "    sentences = parse_into_sentences(speeches.column('Transcript')[s])\n",
    "    long_sent = longest_sentence(sentences)\n",
    "    lengths.append(len(sentences))\n",
    "    longest.append(len(re.split(r'\\s', long_sent)))\n",
    "    \n",
    "sotu = speeches.with_columns('Length', lengths, 'Longest', longest)\n",
    "sotu.show(25)"
   ]
  },
  {
   "cell_type": "code",
   "execution_count": null,
   "metadata": {
    "scrolled": true
   },
   "outputs": [],
   "source": [
    "sotu = sotu.sort('Year', descending=False)\n",
    "sotu"
   ]
  },
  {
   "cell_type": "code",
   "execution_count": null,
   "metadata": {},
   "outputs": [],
   "source": [
    "sotu.bar('Year', 'Length')"
   ]
  },
  {
   "cell_type": "markdown",
   "metadata": {},
   "source": [
    "Let's get the plot to look a little nicer."
   ]
  },
  {
   "cell_type": "code",
   "execution_count": null,
   "metadata": {},
   "outputs": [],
   "source": [
    "\n",
    "import matplotlib.pyplot as plt\n",
    "%matplotlib inline\n",
    "fig = plt.figure()\n",
    "fig.set_size_inches(11,4)\n",
    "plt.bar(sotu.column('Year'), sotu.column('Length'), align='center', alpha=0.5, color='salmon')\n",
    "plt.xlabel('year')\n",
    "plt.ylabel('number of sentences')\n",
    "plt.title('Number of sentences in SOTU address')\n",
    "plt.show()"
   ]
  },
  {
   "cell_type": "code",
   "execution_count": null,
   "metadata": {
    "scrolled": true
   },
   "outputs": [],
   "source": [
    "fig = plt.figure()\n",
    "fig.set_size_inches(11,4)\n",
    "plt.bar(sotu.column('Year'), sotu.column('Longest'), align='center', alpha=0.5, color='salmon')\n",
    "plt.xlabel('year')\n",
    "plt.ylabel('number of words')\n",
    "plt.title('Longest sentence (in words)')\n",
    "plt.show()"
   ]
  },
  {
   "cell_type": "markdown",
   "metadata": {},
   "source": [
    "## What's going on?\n",
    "\n",
    "The trends in the lengths of the SOTUs are a little strange. Can we figure out what's going on? Let's do some detective work. \n",
    "\n",
    "You can check out this [SOTU history page from the House of Representatives](https://history.house.gov/Institution/SOTU/State-of-the-Union/) to get some information. For instance, we find these fun facts:\n",
    "\n",
    "### Technological Change\n",
    "* First radio broadcast of Message: President Calvin Coolidge, 1923.\n",
    "* First television broadcast of Message: President Harry Truman, 1947.\n",
    "* First televised evening delivery of Message: President Lyndon Johnson, 1965.\n",
    "* First live webcast on Internet: President George W. Bush, 2002.\n",
    "* First high definition television broadcast of Message, President George W. Bush, 2004.\n",
    "\n",
    "\n",
    "### Record Holders\n",
    "* The longest: President James Earl (Jimmy) Carter 33,667 words in 1981 (written). President William J. (Bill) Clinton 9,190 words in 1995 (spoken).\n",
    "* The shortest: President George Washington, 1790, 1,089 words.\n",
    "* Average length: 19th century was about 10,000 words; late 20th century, about 5,000 words.\n",
    "* Most Messages/Addresses given: President Franklin Roosevelt, 12 (10 were personal appearances before Congress).\n",
    "* Fewest Messages/Addresses given: President Zachary Taylor; President William Henry Harrison; President James A. Garfield.\n",
    "\n",
    "\n",
    "See if you can explain the trends in the plot of the lengths of the SOTU address by year, based on these web pages that describe the SOTU history."
   ]
  },
  {
   "cell_type": "markdown",
   "metadata": {},
   "source": [
    "## War and Peace\n",
    "\n",
    "*Your turn!*  Your task is to now take this code, and write a function `def mentions_of_word(word)` which does the following:\n",
    "\n",
    "* Goes through each transcript, finding all matches of the word `word`.\n",
    "* Assigns an array `count` with these `word` counts.\n",
    "* Forms a table with a command `speeches.with_column('Count', count)`\n",
    "* Generates a plot of the count of `word` by year, using a command as used above, like this:\n",
    "\n",
    "```\n",
    "    fig = plt.figure()\n",
    "    fig.set_size_inches(11,4)\n",
    "    plt.bar(sotu.column('Year'), sotu.column('Count'), align='center', alpha=0.5, color='salmon')\n",
    "    plt.xlabel('year')\n",
    "    plt.ylabel('count')\n",
    "    plt.title('Mentions of \"%s\"' % word)\n",
    "    plt.show()\n",
    "```\n",
    "\n",
    "Finally, after all of this is working, generate several groups of plots of what you imagine to be related words, and comment on the trends that you see in the data. For example, you could run\n",
    "\n",
    "```\n",
    "    for word in ['war', 'peace', 'arms']:\n",
    "        mentions_of_word(word)\n",
    "```\n",
    "followed by some commentary on the plots in a markdown cell.\n",
    "\n",
    "**Have fun!**\n",
    "\n",
    "<br>\n"
   ]
  }
 ],
 "metadata": {
  "anaconda-cloud": {},
  "celltoolbar": "Raw Cell Format",
  "kernelspec": {
   "display_name": "Python 3",
   "language": "python",
   "name": "python3"
  },
  "language_info": {
   "codemirror_mode": {
    "name": "ipython",
    "version": 3
   },
   "file_extension": ".py",
   "mimetype": "text/x-python",
   "name": "python",
   "nbconvert_exporter": "python",
   "pygments_lexer": "ipython3",
   "version": "3.6.5"
  }
 },
 "nbformat": 4,
 "nbformat_minor": 1
}
